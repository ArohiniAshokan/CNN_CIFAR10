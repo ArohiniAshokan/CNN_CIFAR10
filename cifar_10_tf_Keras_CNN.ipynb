{
  "nbformat": 4,
  "nbformat_minor": 0,
  "metadata": {
    "colab": {
      "provenance": [],
      "authorship_tag": "ABX9TyNsYK/O3CHuQb+aIg5Vst+j",
      "include_colab_link": true
    },
    "kernelspec": {
      "name": "python3",
      "display_name": "Python 3"
    },
    "language_info": {
      "name": "python"
    }
  },
  "cells": [
    {
      "cell_type": "markdown",
      "metadata": {
        "id": "view-in-github",
        "colab_type": "text"
      },
      "source": [
        "<a href=\"https://colab.research.google.com/github/ArohiniAshokan/CNN_CIFAR10/blob/main/cifar_10_tf_Keras_CNN.ipynb\" target=\"_parent\"><img src=\"https://colab.research.google.com/assets/colab-badge.svg\" alt=\"Open In Colab\"/></a>"
      ]
    },
    {
      "cell_type": "markdown",
      "source": [
        "The **CIFAR-10 dataset** consists of 60000 32x32 colour images in 10 classes, with 6000 images per class. There are 50000 training images and 10000 test images."
      ],
      "metadata": {
        "id": "NDLMpzgLq0_2"
      }
    },
    {
      "cell_type": "code",
      "execution_count": null,
      "metadata": {
        "id": "pPjFBHsvqp9D"
      },
      "outputs": [],
      "source": [
        "import tensorflow as tf\n",
        "from tensorflow import keras"
      ]
    },
    {
      "cell_type": "code",
      "source": [
        "#loading dataset\n",
        "from keras.datasets import cifar10\n",
        "(x_train,y_train),(x_test,y_test)=cifar10.load_data()  # x - images and y - corresponding labels\n",
        "print(x_train.shape)\n",
        "print(x_test.shape)\n",
        "print(y_train.shape)\n",
        "print(y_test.shape)"
      ],
      "metadata": {
        "colab": {
          "base_uri": "https://localhost:8080/"
        },
        "id": "n0RnYSI8roar",
        "outputId": "edb8b2d3-e42c-4d6d-b4b9-5c07a74c7ffe"
      },
      "execution_count": null,
      "outputs": [
        {
          "output_type": "stream",
          "name": "stdout",
          "text": [
            "(50000, 32, 32, 3)\n",
            "(10000, 32, 32, 3)\n",
            "(50000, 1)\n",
            "(10000, 1)\n"
          ]
        }
      ]
    },
    {
      "cell_type": "code",
      "source": [
        "x_train[0]"
      ],
      "metadata": {
        "colab": {
          "base_uri": "https://localhost:8080/",
          "height": 72
        },
        "id": "1pcWlbGpsYo1",
        "outputId": "32220a6f-9657-462a-8fd7-13d55f7450a7"
      },
      "execution_count": null,
      "outputs": [
        {
          "output_type": "execute_result",
          "data": {
            "text/plain": [
              "array([[[ 59,  62,  63],\n",
              "        [ 43,  46,  45],\n",
              "        [ 50,  48,  43],\n",
              "        ...,\n",
              "        [158, 132, 108],\n",
              "        [152, 125, 102],\n",
              "        [148, 124, 103]],\n",
              "\n",
              "       [[ 16,  20,  20],\n",
              "        [  0,   0,   0],\n",
              "        [ 18,   8,   0],\n",
              "        ...,\n",
              "        [123,  88,  55],\n",
              "        [119,  83,  50],\n",
              "        [122,  87,  57]],\n",
              "\n",
              "       [[ 25,  24,  21],\n",
              "        [ 16,   7,   0],\n",
              "        [ 49,  27,   8],\n",
              "        ...,\n",
              "        [118,  84,  50],\n",
              "        [120,  84,  50],\n",
              "        [109,  73,  42]],\n",
              "\n",
              "       ...,\n",
              "\n",
              "       [[208, 170,  96],\n",
              "        [201, 153,  34],\n",
              "        [198, 161,  26],\n",
              "        ...,\n",
              "        [160, 133,  70],\n",
              "        [ 56,  31,   7],\n",
              "        [ 53,  34,  20]],\n",
              "\n",
              "       [[180, 139,  96],\n",
              "        [173, 123,  42],\n",
              "        [186, 144,  30],\n",
              "        ...,\n",
              "        [184, 148,  94],\n",
              "        [ 97,  62,  34],\n",
              "        [ 83,  53,  34]],\n",
              "\n",
              "       [[177, 144, 116],\n",
              "        [168, 129,  94],\n",
              "        [179, 142,  87],\n",
              "        ...,\n",
              "        [216, 184, 140],\n",
              "        [151, 118,  84],\n",
              "        [123,  92,  72]]], dtype=uint8)"
            ],
            "text/html": [
              "<style>\n",
              "      .ndarray_repr .ndarray_raw_data {\n",
              "        display: none;\n",
              "      }\n",
              "      .ndarray_repr.show_array .ndarray_raw_data {\n",
              "        display: block;\n",
              "      }\n",
              "      .ndarray_repr.show_array .ndarray_image_preview {\n",
              "        display: none;\n",
              "      }\n",
              "      </style>\n",
              "      <div id=\"id-ed824916-ba29-4c40-871a-1d608233f638\" class=\"ndarray_repr\"><pre>ndarray (32, 32, 3) <button style=\"padding: 0 2px;\">show data</button></pre><img src=\"data:image/png;base64,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\" class=\"ndarray_image_preview\" /><pre class=\"ndarray_raw_data\">array([[[ 59,  62,  63],\n",
              "        [ 43,  46,  45],\n",
              "        [ 50,  48,  43],\n",
              "        ...,\n",
              "        [158, 132, 108],\n",
              "        [152, 125, 102],\n",
              "        [148, 124, 103]],\n",
              "\n",
              "       [[ 16,  20,  20],\n",
              "        [  0,   0,   0],\n",
              "        [ 18,   8,   0],\n",
              "        ...,\n",
              "        [123,  88,  55],\n",
              "        [119,  83,  50],\n",
              "        [122,  87,  57]],\n",
              "\n",
              "       [[ 25,  24,  21],\n",
              "        [ 16,   7,   0],\n",
              "        [ 49,  27,   8],\n",
              "        ...,\n",
              "        [118,  84,  50],\n",
              "        [120,  84,  50],\n",
              "        [109,  73,  42]],\n",
              "\n",
              "       ...,\n",
              "\n",
              "       [[208, 170,  96],\n",
              "        [201, 153,  34],\n",
              "        [198, 161,  26],\n",
              "        ...,\n",
              "        [160, 133,  70],\n",
              "        [ 56,  31,   7],\n",
              "        [ 53,  34,  20]],\n",
              "\n",
              "       [[180, 139,  96],\n",
              "        [173, 123,  42],\n",
              "        [186, 144,  30],\n",
              "        ...,\n",
              "        [184, 148,  94],\n",
              "        [ 97,  62,  34],\n",
              "        [ 83,  53,  34]],\n",
              "\n",
              "       [[177, 144, 116],\n",
              "        [168, 129,  94],\n",
              "        [179, 142,  87],\n",
              "        ...,\n",
              "        [216, 184, 140],\n",
              "        [151, 118,  84],\n",
              "        [123,  92,  72]]], dtype=uint8)</pre></div><script>\n",
              "      (() => {\n",
              "      const titles = ['show data', 'hide data'];\n",
              "      let index = 0\n",
              "      document.querySelector('#id-ed824916-ba29-4c40-871a-1d608233f638 button').onclick = (e) => {\n",
              "        document.querySelector('#id-ed824916-ba29-4c40-871a-1d608233f638').classList.toggle('show_array');\n",
              "        index = (++index) % 2;\n",
              "        document.querySelector('#id-ed824916-ba29-4c40-871a-1d608233f638 button').textContent = titles[index];\n",
              "        e.preventDefault();\n",
              "        e.stopPropagation();\n",
              "      }\n",
              "      })();\n",
              "    </script>"
            ]
          },
          "metadata": {},
          "execution_count": 12
        }
      ]
    },
    {
      "cell_type": "code",
      "source": [
        "print(x_train[0])"
      ],
      "metadata": {
        "colab": {
          "base_uri": "https://localhost:8080/"
        },
        "id": "ex7wagkHseEd",
        "outputId": "f1384846-9288-4017-be86-3e2582092ea5"
      },
      "execution_count": null,
      "outputs": [
        {
          "output_type": "stream",
          "name": "stdout",
          "text": [
            "[[[ 59  62  63]\n",
            "  [ 43  46  45]\n",
            "  [ 50  48  43]\n",
            "  ...\n",
            "  [158 132 108]\n",
            "  [152 125 102]\n",
            "  [148 124 103]]\n",
            "\n",
            " [[ 16  20  20]\n",
            "  [  0   0   0]\n",
            "  [ 18   8   0]\n",
            "  ...\n",
            "  [123  88  55]\n",
            "  [119  83  50]\n",
            "  [122  87  57]]\n",
            "\n",
            " [[ 25  24  21]\n",
            "  [ 16   7   0]\n",
            "  [ 49  27   8]\n",
            "  ...\n",
            "  [118  84  50]\n",
            "  [120  84  50]\n",
            "  [109  73  42]]\n",
            "\n",
            " ...\n",
            "\n",
            " [[208 170  96]\n",
            "  [201 153  34]\n",
            "  [198 161  26]\n",
            "  ...\n",
            "  [160 133  70]\n",
            "  [ 56  31   7]\n",
            "  [ 53  34  20]]\n",
            "\n",
            " [[180 139  96]\n",
            "  [173 123  42]\n",
            "  [186 144  30]\n",
            "  ...\n",
            "  [184 148  94]\n",
            "  [ 97  62  34]\n",
            "  [ 83  53  34]]\n",
            "\n",
            " [[177 144 116]\n",
            "  [168 129  94]\n",
            "  [179 142  87]\n",
            "  ...\n",
            "  [216 184 140]\n",
            "  [151 118  84]\n",
            "  [123  92  72]]]\n"
          ]
        }
      ]
    },
    {
      "cell_type": "code",
      "source": [
        "y_train[0]"
      ],
      "metadata": {
        "colab": {
          "base_uri": "https://localhost:8080/"
        },
        "id": "536sGmfrshXt",
        "outputId": "a70744dc-5946-4d0a-a64f-bbe843b2ea3e"
      },
      "execution_count": null,
      "outputs": [
        {
          "output_type": "execute_result",
          "data": {
            "text/plain": [
              "array([6], dtype=uint8)"
            ]
          },
          "metadata": {},
          "execution_count": 14
        }
      ]
    },
    {
      "cell_type": "code",
      "source": [
        "y_train[:5]  # this is 2d , so need to reshape to 1d"
      ],
      "metadata": {
        "colab": {
          "base_uri": "https://localhost:8080/"
        },
        "id": "vnOsbAsdxOw2",
        "outputId": "071df0b3-3959-4e7c-c32e-0ce3265d94a7"
      },
      "execution_count": null,
      "outputs": [
        {
          "output_type": "execute_result",
          "data": {
            "text/plain": [
              "array([[6],\n",
              "       [9],\n",
              "       [9],\n",
              "       [4],\n",
              "       [1]], dtype=uint8)"
            ]
          },
          "metadata": {},
          "execution_count": 15
        }
      ]
    },
    {
      "cell_type": "code",
      "source": [
        "y_train=y_train.reshape(-1,)\n",
        "y_test=y_test.reshape(-1,)\n",
        "print(y_train.shape)\n",
        "print(y_test.shape)"
      ],
      "metadata": {
        "id": "S_31gwVPvpsu",
        "colab": {
          "base_uri": "https://localhost:8080/"
        },
        "outputId": "71a5b9eb-01a2-4055-a87a-d1986fce0f69"
      },
      "execution_count": null,
      "outputs": [
        {
          "output_type": "stream",
          "name": "stdout",
          "text": [
            "(50000,)\n",
            "(10000,)\n"
          ]
        }
      ]
    },
    {
      "cell_type": "code",
      "source": [
        "y_train[:5]"
      ],
      "metadata": {
        "id": "RRBrE26Fvzyy",
        "outputId": "cc6eaf91-f8f9-48b2-d166-d4a38b6a6e50",
        "colab": {
          "base_uri": "https://localhost:8080/"
        }
      },
      "execution_count": null,
      "outputs": [
        {
          "output_type": "execute_result",
          "data": {
            "text/plain": [
              "array([6, 9, 9, 4, 1], dtype=uint8)"
            ]
          },
          "metadata": {},
          "execution_count": 20
        }
      ]
    },
    {
      "cell_type": "code",
      "source": [
        "classes=['airplane',\"automobile\",\"bird\",\"cat\",\"deer\",\"dog\",\"frog\",\"horse\",\"ship\",\"truck\"]"
      ],
      "metadata": {
        "id": "haP9a3-huPl_"
      },
      "execution_count": null,
      "outputs": []
    },
    {
      "cell_type": "code",
      "source": [
        "classes[y_train[0]]"
      ],
      "metadata": {
        "colab": {
          "base_uri": "https://localhost:8080/",
          "height": 35
        },
        "id": "7XLxxe07x_LA",
        "outputId": "7aa7b733-37c9-4dac-9821-cea47880d492"
      },
      "execution_count": null,
      "outputs": [
        {
          "output_type": "execute_result",
          "data": {
            "text/plain": [
              "'frog'"
            ],
            "application/vnd.google.colaboratory.intrinsic+json": {
              "type": "string"
            }
          },
          "metadata": {},
          "execution_count": 22
        }
      ]
    },
    {
      "cell_type": "code",
      "source": [
        "import matplotlib.pyplot as plt\n",
        "plt.figure(figsize=(15,2))\n",
        "plt.imshow(x_train[100])\n",
        "plt.xlabel(classes[y_train[100]])"
      ],
      "metadata": {
        "colab": {
          "base_uri": "https://localhost:8080/",
          "height": 254
        },
        "id": "rKnlVuUbypF_",
        "outputId": "33fe5870-9942-4c36-d2b6-b0ddafcde16b"
      },
      "execution_count": null,
      "outputs": [
        {
          "output_type": "execute_result",
          "data": {
            "text/plain": [
              "Text(0.5, 0, 'ship')"
            ]
          },
          "metadata": {},
          "execution_count": 30
        },
        {
          "output_type": "display_data",
          "data": {
            "text/plain": [
              "<Figure size 1500x200 with 1 Axes>"
            ],
            "image/png": "[encoded data removed]"
          },
          "metadata": {}
        }
      ]
    },
    {
      "cell_type": "code",
      "source": [
        "# normalizing\n",
        "x_train=tf.keras.utils.normalize(x_train,axis=1)\n",
        "x_test=tf.keras.utils.normalize(x_test,axis=1)"
      ],
      "metadata": {
        "id": "b1oFM4UwzEh8"
      },
      "execution_count": null,
      "outputs": []
    },
    {
      "cell_type": "code",
      "source": [
        "x_train[0]"
      ],
      "metadata": {
        "colab": {
          "base_uri": "https://localhost:8080/"
        },
        "id": "smpQctvJB8cV",
        "outputId": "d72d50ed-493c-453c-90cf-d45af7e55d49"
      },
      "execution_count": null,
      "outputs": [
        {
          "output_type": "execute_result",
          "data": {
            "text/plain": [
              "array([[[0.07182773, 0.09722503, 0.15002467],\n",
              "        [0.05555073, 0.08510671, 0.1680591 ],\n",
              "        [0.06416572, 0.08557414, 0.15041218],\n",
              "        ...,\n",
              "        [0.19738931, 0.2065452 , 0.30386149],\n",
              "        [0.20651145, 0.21914754, 0.33373633],\n",
              "        [0.20868805, 0.22118572, 0.32022806]],\n",
              "\n",
              "       [[0.01947871, 0.03136291, 0.04762688],\n",
              "        [0.        , 0.        , 0.        ],\n",
              "        [0.02309966, 0.01426236, 0.        ],\n",
              "        ...,\n",
              "        [0.15366383, 0.1376968 , 0.15474428],\n",
              "        [0.16167672, 0.14551397, 0.16359624],\n",
              "        [0.17202664, 0.15518676, 0.17721359]],\n",
              "\n",
              "       [[0.03043548, 0.0376355 , 0.05000822],\n",
              "        [0.02067004, 0.01295102, 0.        ],\n",
              "        [0.0628824 , 0.04813545, 0.02798366],\n",
              "        ...,\n",
              "        [0.14741733, 0.13143786, 0.14067662],\n",
              "        [0.16303535, 0.14726715, 0.16359624],\n",
              "        [0.15369593, 0.13021418, 0.13057843]],\n",
              "\n",
              "       ...,\n",
              "\n",
              "       [[0.25322319, 0.26658477, 0.22860901],\n",
              "        [0.25966738, 0.28307232, 0.12697798],\n",
              "        [0.25409624, 0.28702993, 0.0909469 ],\n",
              "        ...,\n",
              "        [0.19988791, 0.20810994, 0.19694726],\n",
              "        [0.07608316, 0.05434859, 0.02290347],\n",
              "        [0.07473288, 0.0606477 , 0.06218021]],\n",
              "\n",
              "       [[0.21913545, 0.21797225, 0.22860901],\n",
              "        [0.22349481, 0.22756794, 0.15685516],\n",
              "        [0.23869647, 0.25672243, 0.10493873],\n",
              "        ...,\n",
              "        [0.22987109, 0.23158099, 0.26447204],\n",
              "        [0.13178691, 0.10869718, 0.11124544],\n",
              "        [0.11703451, 0.09453906, 0.10570635]],\n",
              "\n",
              "       [[0.21548319, 0.22581298, 0.27623589],\n",
              "        [0.21703543, 0.23866882, 0.35105678],\n",
              "        [0.22971327, 0.25315684, 0.30432233],\n",
              "        ...,\n",
              "        [0.26984867, 0.2879115 , 0.39389453],\n",
              "        [0.20515282, 0.20687528, 0.27484168],\n",
              "        [0.17343669, 0.16410554, 0.22384874]]])"
            ]
          },
          "metadata": {},
          "execution_count": 32
        }
      ]
    },
    {
      "cell_type": "markdown",
      "source": [
        "Building ANN to check the result"
      ],
      "metadata": {
        "id": "iyaO7o21Tvmm"
      }
    },
    {
      "cell_type": "code",
      "source": [
        "from keras.models import Sequential\n",
        "from keras.layers import Dense,Flatten\n",
        "ann=Sequential()\n",
        "\n",
        "ann.add(Flatten())    # 32*32*3 = 3072\n",
        "ann.add(Dense(3000,activation='relu'))\n",
        "ann.add(Dense(1000,activation='relu'))\n",
        "ann.add(Dense(10,activation='softmax'))\n",
        "\n"
      ],
      "metadata": {
        "id": "LmyqTpEDCCsv"
      },
      "execution_count": null,
      "outputs": []
    },
    {
      "cell_type": "code",
      "source": [
        "ann.compile(optimizer='SGD',loss='sparse_categorical_crossentropy',metrics=['accuracy'])\n",
        "# if y is like [0 0 0 0 0 0 1 0 0 0], we should use loss= 'categorical_crossentropy' but here y is like y = 6 like that so use sparse_categorical_crossentropy\n"
      ],
      "metadata": {
        "id": "-lb1TwhBFSfC"
      },
      "execution_count": null,
      "outputs": []
    },
    {
      "cell_type": "code",
      "source": [
        "ann.fit(x_train,y_train,epochs=5)"
      ],
      "metadata": {
        "colab": {
          "base_uri": "https://localhost:8080/"
        },
        "id": "pnzR1E8mFr3Q",
        "outputId": "f603eccd-2909-4f0b-af3f-555ea3ff505c"
      },
      "execution_count": null,
      "outputs": [
        {
          "output_type": "stream",
          "name": "stdout",
          "text": [
            "Epoch 1/5\n",
            "1563/1563 [==============================] - 121s 77ms/step - loss: 2.0899 - accuracy: 0.2520\n",
            "Epoch 2/5\n",
            "1563/1563 [==============================] - 116s 74ms/step - loss: 1.9568 - accuracy: 0.3100\n",
            "Epoch 3/5\n",
            "1563/1563 [==============================] - 116s 74ms/step - loss: 1.8803 - accuracy: 0.3404\n",
            "Epoch 4/5\n",
            "1563/1563 [==============================] - 117s 75ms/step - loss: 1.8182 - accuracy: 0.3631\n",
            "Epoch 5/5\n",
            "1563/1563 [==============================] - 131s 84ms/step - loss: 1.7672 - accuracy: 0.3834\n"
          ]
        },
        {
          "output_type": "execute_result",
          "data": {
            "text/plain": [
              "<keras.src.callbacks.History at 0x7e85ec2fece0>"
            ]
          },
          "metadata": {},
          "execution_count": 39
        }
      ]
    },
    {
      "cell_type": "markdown",
      "source": [
        "So even after 5 epochs , accuracy is only 0.38 with ANN"
      ],
      "metadata": {
        "id": "-jeDdGvJT32S"
      }
    },
    {
      "cell_type": "markdown",
      "source": [
        "**Building CNN**"
      ],
      "metadata": {
        "id": "CErStcR_UCBp"
      }
    },
    {
      "cell_type": "code",
      "source": [
        "from keras.layers import Conv2D,MaxPooling2D\n",
        "cnn=Sequential()\n",
        "\n",
        "cnn.add(Conv2D(filters=32,kernel_size=(3,3),activation='relu',input_shape=(32,32,3)))\n",
        "cnn.add(MaxPooling2D((2,2)))   # pool_size - (2,2) ie size of the window over which to take the maximum\n",
        "\n",
        "cnn.add(Conv2D(filters=64,kernel_size=(3,3),activation='relu'))\n",
        "cnn.add(MaxPooling2D((2,2)))\n",
        "\n",
        "cnn.add(Flatten())\n",
        "cnn.add(Dense(64,activation='relu'))\n",
        "cnn.add(Dense(10,activation='softmax'))"
      ],
      "metadata": {
        "id": "Kq5vtLWeTrwq"
      },
      "execution_count": null,
      "outputs": []
    },
    {
      "cell_type": "code",
      "source": [
        "cnn.compile(optimizer='adam',loss='sparse_categorical_crossentropy',metrics=['accuracy'])"
      ],
      "metadata": {
        "id": "lo6-ZSjVWD23"
      },
      "execution_count": null,
      "outputs": []
    },
    {
      "cell_type": "code",
      "source": [
        "cnn.fit(x_train,y_train,epochs=10)   # each epoch involves iterating through the dataset in batches (we can see this -left side below Epoch)"
      ],
      "metadata": {
        "colab": {
          "base_uri": "https://localhost:8080/"
        },
        "id": "fW6CplbKWSih",
        "outputId": "dafad442-bc25-439f-b315-069d70b89d34"
      },
      "execution_count": null,
      "outputs": [
        {
          "output_type": "stream",
          "name": "stdout",
          "text": [
            "Epoch 1/10\n",
            "1563/1563 [==============================] - 57s 35ms/step - loss: 1.6646 - accuracy: 0.4046\n",
            "Epoch 2/10\n",
            "1563/1563 [==============================] - 54s 35ms/step - loss: 1.2827 - accuracy: 0.5536\n",
            "Epoch 3/10\n",
            "1563/1563 [==============================] - 53s 34ms/step - loss: 1.1379 - accuracy: 0.6051\n",
            "Epoch 4/10\n",
            "1563/1563 [==============================] - 52s 33ms/step - loss: 1.0516 - accuracy: 0.6335\n",
            "Epoch 5/10\n",
            "1563/1563 [==============================] - 52s 33ms/step - loss: 0.9862 - accuracy: 0.6601\n",
            "Epoch 6/10\n",
            "1563/1563 [==============================] - 52s 33ms/step - loss: 0.9338 - accuracy: 0.6784\n",
            "Epoch 7/10\n",
            "1563/1563 [==============================] - 52s 33ms/step - loss: 0.8871 - accuracy: 0.6941\n",
            "Epoch 8/10\n",
            "1563/1563 [==============================] - 52s 33ms/step - loss: 0.8403 - accuracy: 0.7114\n",
            "Epoch 9/10\n",
            "1563/1563 [==============================] - 52s 33ms/step - loss: 0.8053 - accuracy: 0.7222\n",
            "Epoch 10/10\n",
            "1563/1563 [==============================] - 51s 33ms/step - loss: 0.7650 - accuracy: 0.7369\n"
          ]
        },
        {
          "output_type": "execute_result",
          "data": {
            "text/plain": [
              "<keras.src.callbacks.History at 0x7e85e4275fc0>"
            ]
          },
          "metadata": {},
          "execution_count": 42
        }
      ]
    },
    {
      "cell_type": "markdown",
      "source": [
        "With CNN, at the end 5 epochs, accuracy was at around 60% which is a significant improvement over ANN. CNN's are best for image classification and gives superb accuracy. Also computation is much less compared to simple ANN as maxpooling reduces the image dimensions while still preserving the features"
      ],
      "metadata": {
        "id": "qI5eRYZ0Y6TP"
      }
    },
    {
      "cell_type": "code",
      "source": [
        "loss, accuracy =cnn.evaluate(x_test,y_test)\n",
        "print(f'Test Loss: {loss}')\n",
        "print(f'Test Accuracy: {accuracy}')"
      ],
      "metadata": {
        "colab": {
          "base_uri": "https://localhost:8080/"
        },
        "id": "4t3JU_qaY5x0",
        "outputId": "a417baa0-7dd0-4683-b3fa-7345a14d06a4"
      },
      "execution_count": null,
      "outputs": [
        {
          "output_type": "stream",
          "name": "stdout",
          "text": [
            "313/313 [==============================] - 3s 11ms/step - loss: 0.9749 - accuracy: 0.6720\n",
            "Test Loss: 0.9749101400375366\n",
            "Test Accuracy: 0.671999990940094\n"
          ]
        }
      ]
    },
    {
      "cell_type": "code",
      "source": [
        "y_pred=cnn.predict(x_test)\n",
        "y_pred"
      ],
      "metadata": {
        "colab": {
          "base_uri": "https://localhost:8080/"
        },
        "id": "ACzmI8_cZGEm",
        "outputId": "a775e94d-3237-41c8-85d4-fb636ee71e08"
      },
      "execution_count": null,
      "outputs": [
        {
          "output_type": "stream",
          "name": "stdout",
          "text": [
            "313/313 [==============================] - 4s 13ms/step\n"
          ]
        },
        {
          "output_type": "execute_result",
          "data": {
            "text/plain": [
              "array([[7.85202079e-04, 1.42718945e-05, 5.93378674e-03, ...,\n",
              "        1.00215478e-03, 2.51118676e-03, 2.03361793e-04],\n",
              "       [3.67909856e-03, 5.09573936e-01, 1.36133851e-04, ...,\n",
              "        5.20360982e-06, 4.83612537e-01, 2.10553361e-03],\n",
              "       [8.14989656e-02, 1.01219572e-01, 4.04800521e-03, ...,\n",
              "        5.89520764e-03, 7.50086188e-01, 3.46582048e-02],\n",
              "       ...,\n",
              "       [1.37445813e-05, 1.04590178e-07, 2.40419328e-01, ...,\n",
              "        4.65475060e-02, 4.03337108e-05, 6.81382444e-05],\n",
              "       [1.26736268e-01, 8.00264955e-01, 5.27144782e-03, ...,\n",
              "        2.66883732e-03, 6.10557245e-03, 5.68042137e-03],\n",
              "       [2.87007379e-06, 4.08545338e-06, 1.36897515e-03, ...,\n",
              "        9.38170731e-01, 5.90780792e-06, 1.94078007e-06]], dtype=float32)"
            ]
          },
          "metadata": {},
          "execution_count": 46
        }
      ]
    },
    {
      "cell_type": "code",
      "source": [
        "import numpy as np\n",
        "np.argmax(y_pred[0])"
      ],
      "metadata": {
        "colab": {
          "base_uri": "https://localhost:8080/"
        },
        "id": "Jdb6JYs1aWXr",
        "outputId": "df9b78d9-366d-4ab0-e9b4-078b04c6fa29"
      },
      "execution_count": null,
      "outputs": [
        {
          "output_type": "execute_result",
          "data": {
            "text/plain": [
              "3"
            ]
          },
          "metadata": {},
          "execution_count": 49
        }
      ]
    },
    {
      "cell_type": "code",
      "source": [
        "\n",
        "y_pred_classes=[np.argmax(i) for i in y_pred]\n",
        "print(y_pred_classes[:20])"
      ],
      "metadata": {
        "colab": {
          "base_uri": "https://localhost:8080/"
        },
        "id": "8dVvVuuEZogu",
        "outputId": "4798a04a-97fb-4715-d20e-968171d5e244"
      },
      "execution_count": null,
      "outputs": [
        {
          "output_type": "stream",
          "name": "stdout",
          "text": [
            "[3, 1, 8, 0, 6, 6, 1, 6, 3, 1, 4, 9, 5, 7, 9, 6, 5, 5, 8, 6]\n"
          ]
        }
      ]
    },
    {
      "cell_type": "code",
      "source": [
        "print(y_test[:20])"
      ],
      "metadata": {
        "colab": {
          "base_uri": "https://localhost:8080/"
        },
        "id": "Nr5bs9zWakzH",
        "outputId": "eb77e48b-e2ea-439f-9589-ccacccd0271e"
      },
      "execution_count": null,
      "outputs": [
        {
          "output_type": "stream",
          "name": "stdout",
          "text": [
            "[3 8 8 0 6 6 1 6 3 1 0 9 5 7 9 8 5 7 8 6]\n"
          ]
        }
      ]
    },
    {
      "cell_type": "code",
      "source": [
        "plt.figure(figsize=(15,2))\n",
        "plt.imshow(x_test[3])\n",
        "plt.xlabel(classes[y_test[3]])"
      ],
      "metadata": {
        "colab": {
          "base_uri": "https://localhost:8080/",
          "height": 254
        },
        "id": "MUGro7Gtaq1L",
        "outputId": "6b88cea4-66b0-48aa-9267-737bd09ad0e6"
      },
      "execution_count": null,
      "outputs": [
        {
          "output_type": "execute_result",
          "data": {
            "text/plain": [
              "Text(0.5, 0, 'airplane')"
            ]
          },
          "metadata": {},
          "execution_count": 59
        },
        {
          "output_type": "display_data",
          "data": {
            "text/plain": [
              "<Figure size 1500x200 with 1 Axes>"
            ],
            "image/png": "[encoded data removed]"
          },
          "metadata": {}
        }
      ]
    },
    {
      "cell_type": "code",
      "source": [
        "classes[y_pred_classes[3]]"
      ],
      "metadata": {
        "colab": {
          "base_uri": "https://localhost:8080/",
          "height": 35
        },
        "id": "PtMLXF3Na9Xn",
        "outputId": "b5ac47ee-f5df-4c5b-b257-43e6dc495fe6"
      },
      "execution_count": null,
      "outputs": [
        {
          "output_type": "execute_result",
          "data": {
            "text/plain": [
              "'airplane'"
            ],
            "application/vnd.google.colaboratory.intrinsic+json": {
              "type": "string"
            }
          },
          "metadata": {},
          "execution_count": 58
        }
      ]
    }
  ]
}